{
 "cells": [
  {
   "cell_type": "code",
   "execution_count": 1,
   "metadata": {
    "tags": [
     "parameters"
    ]
   },
   "outputs": [],
   "source": [
    "class Arguments:\n",
    "    encrypted = True\n",
    "    dtype = 'long'\n",
    "    protocol = \"fss\"\n",
    "    precision_fractional = 4\n",
    "\n",
    "args = Arguments()"
   ]
  },
  {
   "cell_type": "markdown",
   "metadata": {},
   "source": [
    "# ResNet-18"
   ]
  },
  {
   "cell_type": "code",
   "execution_count": 2,
   "metadata": {},
   "outputs": [],
   "source": [
    "import time\n",
    "import torch\n",
    "from torchvision import transforms\n",
    "\n",
    "import syft as sy\n",
    "\n",
    "hook = sy.TorchHook(torch) \n",
    "bob = sy.VirtualWorker(hook, id=\"bob\")\n",
    "alice = sy.VirtualWorker(hook, id=\"alice\")\n",
    "crypto_provider = sy.VirtualWorker(hook, id=\"crypto_provider\")\n",
    "\n",
    "workers = [alice, bob]\n",
    "sy.local_worker.clients = workers\n",
    "\n",
    "kwargs = dict(crypto_provider=crypto_provider, protocol=args.protocol, requires_grad=False)\n",
    "snapshots = []"
   ]
  },
  {
   "cell_type": "code",
   "execution_count": 4,
   "metadata": {},
   "outputs": [
    {
     "name": "stdout",
     "output_type": "stream",
     "text": [
      "136.06766986846924\n",
      "tensor([[-4.9330,  3.2527,  2.2385]])\n",
      "100\n",
      "137.87865114212036\n",
      "tensor([[-4.5752,  4.6929,  0.4374]])\n",
      "100\n",
      "148.39177703857422\n",
      "tensor([[ 8.4596, -5.5816, -1.2273]])\n",
      "100\n"
     ]
    }
   ],
   "source": [
    "from torchlib.models import resnet18\n",
    "from torchlib.dataloader import PPPP\n",
    "from sklearn.metrics import classification_report\n",
    "\n",
    "model = resnet18(\n",
    "    pretrained=True,\n",
    "    num_classes=3,\n",
    "    in_channels=3,\n",
    "    pooling=\"max\",\n",
    "    adptpool=False,\n",
    "    input_size=224,\n",
    ")\n",
    "state = torch.load(\"/Users/tryffel/code/4P/resnet_maxpool.pt\", map_location='cpu')\n",
    "model.load_state_dict(state[\"model_state_dict\"])\n",
    "model.pool, model.relu = model.relu, model.pool\n",
    "dataloader = torch.utils.data.DataLoader(\n",
    "    PPPP(\n",
    "        train=False,\n",
    "        transform=transforms.Compose(\n",
    "            [\n",
    "                transforms.Resize(224),\n",
    "                transforms.CenterCrop(224),\n",
    "                transforms.ToTensor(),\n",
    "                transforms.Normalize((0.57282609,), (0.17427578,)),\n",
    "                transforms.Lambda(lambda x: torch.repeat_interleave(x, 3, dim=0)),\n",
    "            ]\n",
    "        ),\n",
    "    ),\n",
    "    batch_size=1,\n",
    ")\n",
    "model.eval()\n",
    "if args.encrypted:\n",
    "    model.fix_precision(precision_fractional=args.precision_fractional, dtype=args.dtype).share(*workers, **kwargs)\n",
    "\n",
    "predictions, targets = [], []\n",
    "with torch.no_grad():\n",
    "    for data, target in dataloader:\n",
    "        if args.encrypted:\n",
    "            t = time.time()\n",
    "            data = data.fix_precision(precision_fractional=args.precision_fractional, dtype=args.dtype).share(*workers, **kwargs)\n",
    "        prediction = model(data)\n",
    "        if args.encrypted:\n",
    "            prediction = prediction.get().float_prec()\n",
    "            print(time.time() - t)\n",
    "        print(prediction)\n",
    "        prediction = prediction.argmax(dim=1)\n",
    "        predictions.append(prediction.item())\n",
    "        targets.append(target.item())\n",
    "        print(round((torch.tensor(predictions) == torch.tensor(targets)).sum().item()/len(predictions)*100))\n"
   ]
  }
 ],
 "metadata": {
  "celltoolbar": "Tags",
  "kernelspec": {
   "display_name": "Python 3",
   "language": "python",
   "name": "python3"
  },
  "language_info": {
   "codemirror_mode": {
    "name": "ipython",
    "version": 3
   },
   "file_extension": ".py",
   "mimetype": "text/x-python",
   "name": "python",
   "nbconvert_exporter": "python",
   "pygments_lexer": "ipython3",
   "version": "3.7.0"
  }
 },
 "nbformat": 4,
 "nbformat_minor": 2
}
