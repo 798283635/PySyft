{
 "cells": [
  {
   "cell_type": "code",
   "execution_count": 2,
   "metadata": {},
   "outputs": [],
   "source": [
    "import numpy as np\n",
    "import time\n",
    "\n",
    "import syft as sy\n",
    "import torch as th\n",
    "import torch.nn as nn\n",
    "import torch.optim as optim\n",
    "import torch.nn.functional as F\n",
    "import time\n",
    "import torch.autograd as autograd\n",
    "import numpy as np\n",
    "\n",
    "syft = sy \n",
    "\n",
    "hook = sy.TorchHook(th)\n",
    "bob = sy.VirtualWorker(hook, id=\"bob\")\n",
    "alice = sy.VirtualWorker(hook, id=\"alice\")\n",
    "charlie = sy.VirtualWorker(hook, id=\"charlie\")\n",
    "james = sy.VirtualWorker(hook, id=\"james\")\n",
    "crypto_provider = james\n",
    "torch = th\n",
    "\n",
    "from syft.serde.msgpack import serde"
   ]
  },
  {
   "cell_type": "code",
   "execution_count": 3,
   "metadata": {},
   "outputs": [],
   "source": [
    "λ = 6 #6 #63 # security paramater\n",
    "n = 8 #8 #32 # nb of bits of the algebric field"
   ]
  },
  {
   "cell_type": "markdown",
   "metadata": {},
   "source": [
    "# DPF"
   ]
  },
  {
   "cell_type": "code",
   "execution_count": 4,
   "metadata": {},
   "outputs": [],
   "source": [
    "# PRG\n",
    "def G(seed):\n",
    "    #OK\n",
    "    assert len(seed) == λ\n",
    "    th.manual_seed(Convert(seed))\n",
    "    return th.randint(2, size=(2*(λ + 1),), dtype=th.uint8)\n",
    "\n",
    "#bit_pow_lambda = th.flip(2 ** th.arange(λ), (0,)).to(th.uint8)\n",
    "def Convert(bits):\n",
    "    bit_pow_lambda = th.flip(2 ** th.arange(λ), (0,)).to(th.uint8)\n",
    "    return bits.dot(bit_pow_lambda)\n",
    "\n",
    "def Array(*shape):\n",
    "    #FIXED SHAPE\n",
    "    return th.empty(shape, dtype=th.uint8)\n",
    "\n",
    "#bit_pow_n = th.flip(2 ** th.arange(n), (0,))\n",
    "def bit_decomposition(x):\n",
    "    bit_pow_n = th.flip(2 ** th.arange(n), (0,))\n",
    "    return ((x & bit_pow_n) > 0).to(th.int8)\n",
    "\n",
    "def randbit(size):\n",
    "    #FIXED SHAPE\n",
    "    return th.randint(2, size=size)\n",
    "    \n",
    "def concat(*args, **kwargs):\n",
    "    return th.cat(args, **kwargs)\n",
    "\n",
    "def split(x, idx):\n",
    "    return th.split(x, idx)\n",
    "    \n",
    "#one = th.tensor([1], dtype=th.uint8)\n",
    "def TruthTableDPF(s, α_i):\n",
    "    one = th.tensor([1], dtype=th.uint8)\n",
    "    Table = th.zeros((2, λ+1), dtype=th.uint8)\n",
    "    Table[α_i] = concat(s, one)\n",
    "    return Table.flatten()"
   ]
  },
  {
   "cell_type": "code",
   "execution_count": 5,
   "metadata": {},
   "outputs": [],
   "source": [
    "@sy.func2plan()\n",
    "def GenDPF(alpha, beta):\n",
    "    α = bit_decomposition(alpha)\n",
    "    s, t, CW = Array(n+1, 2, λ), Array(n+1, 2), Array(n, 2*(λ+1))\n",
    "    s[0] = randbit(size=(2, λ))\n",
    "    t[0] = th.tensor([0, 1], dtype=torch.uint8)\n",
    "    for i in range(0, n):\n",
    "        # Re-use useless randomness\n",
    "        sL_0, _, sR_0, _ = split(G(s[i, 0]), [λ, 1, λ, 1])\n",
    "        sL_1, _, sR_1, _ = split(G(s[i, 1]), [λ, 1, λ, 1])\n",
    "        s_rand = (sL_0 ^ sL_1) * α[i] + (sR_0 ^ sR_1) * (1 - α[i])\n",
    "        \n",
    "        cw_i = TruthTableDPF(s_rand, α[i])\n",
    "        CW[i] = cw_i ^ G(s[i, 0]) ^ G(s[i, 1])\n",
    "        \n",
    "        for b in (0, 1):\n",
    "            τ = G(s[i, b]) ^ (t[i, b] * CW[i])\n",
    "            τ = τ.reshape(2, λ+1)\n",
    "            s[i+1, b], t[i+1, b] = split(τ[𝛼[i]], [λ, 1])\n",
    "        \n",
    "    CW_n = (-1)**t[n, 1]*(beta.to(th.uint8) - Convert(s[n, 0]) + Convert(s[n, 1]))\n",
    "    \n",
    "    return s[0, 0], s[0, 1], CW, CW_n\n",
    "        "
   ]
  },
  {
   "cell_type": "code",
   "execution_count": 6,
   "metadata": {},
   "outputs": [],
   "source": [
    "@sy.func2plan()\n",
    "def EvalDPF(b, x, *k_b):\n",
    "    x = bit_decomposition(x)\n",
    "    s, t = Array(n+1, λ), Array(n+1, 1)\n",
    "    s[0] = k_b[0]\n",
    "    CW =  k_b[1:]\n",
    "    t[0] = b\n",
    "    for i in range(0, n):\n",
    "        τ = G(s[i]) ^ (t[i]*CW[i])\n",
    "        τ = τ.reshape(2, λ+1)\n",
    "        s[i+1], t[i+1] = split(τ[x[i]], [λ, 1])\n",
    "    return (-1)**b * (Convert(s[n]) + t[n]*CW[n])\n",
    "        "
   ]
  },
  {
   "cell_type": "code",
   "execution_count": 7,
   "metadata": {},
   "outputs": [],
   "source": [
    "beta = th.IntTensor([2])\n",
    "alpha, = th.randint(0, 2**n, (1,))\n",
    "\n",
    "GenDPF.build(alpha, beta)\n",
    "res = GenDPF(alpha, beta)\n",
    "s_00, s_01, CW, CW_n = res\n",
    "k = [\n",
    "    (s_00, *CW, CW_n),\n",
    "    (s_01, *CW, CW_n)\n",
    "]"
   ]
  },
  {
   "cell_type": "code",
   "execution_count": 8,
   "metadata": {},
   "outputs": [],
   "source": [
    "EvalDPF.build(th.IntTensor([0]), alpha, *k[0])"
   ]
  },
  {
   "cell_type": "code",
   "execution_count": 9,
   "metadata": {},
   "outputs": [],
   "source": [
    "serde_plan_simplified = serde._simplify(bob, GenDPF)\n",
    "GenDPF_back = serde._detail(bob, serde_plan_simplified)\n",
    "\n",
    "serde_plan_simplified = serde._simplify(bob, EvalDPF)\n",
    "EvalDPF_back = serde._detail(bob, serde_plan_simplified)"
   ]
  },
  {
   "cell_type": "code",
   "execution_count": 11,
   "metadata": {},
   "outputs": [],
   "source": [
    "beta = th.IntTensor([2])\n",
    "alpha, = th.randint(0, 2**n, (1,))"
   ]
  },
  {
   "cell_type": "code",
   "execution_count": 12,
   "metadata": {
    "scrolled": true
   },
   "outputs": [],
   "source": [
    "res = GenDPF_back(alpha, beta)\n",
    "s_00, s_01, CW, CW_n = res\n",
    "k = [\n",
    "    (s_00, *CW, CW_n),\n",
    "    (s_01, *CW, CW_n)\n",
    "]"
   ]
  },
  {
   "cell_type": "code",
   "execution_count": 13,
   "metadata": {},
   "outputs": [
    {
     "data": {
      "text/plain": [
       "tensor([2], dtype=torch.int32)"
      ]
     },
     "execution_count": 13,
     "metadata": {},
     "output_type": "execute_result"
    }
   ],
   "source": [
    "(EvalDPF(th.IntTensor([0]), alpha, *k[0]) + EvalDPF(th.IntTensor([1]), alpha, *k[1]))"
   ]
  },
  {
   "cell_type": "code",
   "execution_count": 13,
   "metadata": {},
   "outputs": [
    {
     "data": {
      "text/plain": [
       "tensor([0], dtype=torch.int32)"
      ]
     },
     "execution_count": 13,
     "metadata": {},
     "output_type": "execute_result"
    }
   ],
   "source": [
    "(EvalDPF_back(th.IntTensor([0]), alpha+1, *k[0]) + EvalDPF_back(th.IntTensor([1]), alpha+1, *k[1]))"
   ]
  },
  {
   "cell_type": "code",
   "execution_count": 14,
   "metadata": {},
   "outputs": [
    {
     "name": "stdout",
     "output_type": "stream",
     "text": [
      "6.1 ms / Eval\n",
      "4.4 ms / Eval\n",
      "4.8 ms / Eval\n",
      "4.5 ms / Eval\n",
      "5.2 ms / Eval\n",
      "4.9 ms / Eval\n",
      "4.9 ms / Eval\n",
      "5.8 ms / Eval\n",
      "5.3 ms / Eval\n",
      "4.5 ms / Eval\n",
      "13.9 ms\n"
     ]
    }
   ],
   "source": [
    "def test_DPF():\n",
    "    t = time.time()\n",
    "    n_alpha, n_x = 10, 10\n",
    "    beta = th.IntTensor([2])\n",
    "    for alpha in th.randint(0, 2**n, (n_alpha, )):\n",
    "        s_00, s_01, CW, CW_n = GenDPF(alpha, beta)\n",
    "        k = [\n",
    "            (s_00, *CW, CW_n),\n",
    "            (s_01, *CW, CW_n)\n",
    "        ]\n",
    "        t2 = time.time()\n",
    "        for x in th.randint(0, 2**n, (n_x,)):\n",
    "            y0 = EvalDPF(th.IntTensor([0]), x, *k[0])\n",
    "            y1 = EvalDPF(th.IntTensor([1]), x, *k[1])\n",
    "            \n",
    "            #print(y0+y1)\n",
    "            if x == alpha:\n",
    "                assert y0+y1 == beta\n",
    "            else:\n",
    "                assert y0+y1 == 0\n",
    "              \n",
    "        #print((EvalDPF(0, k[0], alpha) + EvalDPF(1, k[1], alpha)))\n",
    "        assert (EvalDPF(0, alpha, *k[0]) + EvalDPF(1, alpha, *k[1])) == beta\n",
    "        \n",
    "        print(round(1000*(time.time() - t2)/((n_x+1) * 2), 1), 'ms / Eval')\n",
    "    print(round(1000*(time.time() - t)/(n_alpha*n_x), 1), 'ms')\n",
    "                \n",
    "test_DPF()"
   ]
  },
  {
   "cell_type": "markdown",
   "metadata": {},
   "source": [
    "# DIF"
   ]
  },
  {
   "cell_type": "code",
   "execution_count": 15,
   "metadata": {},
   "outputs": [],
   "source": [
    "def G(seed):\n",
    "    assert len(seed) == λ\n",
    "    th.manual_seed(Convert(seed))\n",
    "    return th.randint(2, size=(2 + 2*(λ + 1), ), dtype=th.uint8)\n",
    "    \n",
    "    \n",
    "def TruthTableDIF(s, α_i):\n",
    "    leafTable = th.zeros((2, 1), dtype=th.uint8)\n",
    "    # if α_i is 0, then ending on the leaf branch means your bit is 1 to you're > α so you should get 0\n",
    "    # if α_i is 1, then ending on the leaf branch means your bit is 0 to you're < α so you should get 1\n",
    "    leaf_value = α_i\n",
    "    leafTable[1-α_i] = leaf_value\n",
    "    \n",
    "    nextTable = th.zeros((2, λ+1), dtype=th.uint8)\n",
    "    one = th.tensor([1], dtype=torch.uint8)\n",
    "    nextTable[α_i] = concat(s, one)\n",
    "    \n",
    "    return concat(leafTable, nextTable, axis=1).flatten()"
   ]
  },
  {
   "cell_type": "code",
   "execution_count": 31,
   "metadata": {},
   "outputs": [],
   "source": [
    "@sy.func2plan()\n",
    "def GenDIF(alpha):\n",
    "    α = bit_decomposition(alpha)\n",
    "    s, t, CW = Array(n+1, 2, λ), Array(n+1, 2), Array(n, 2 + 2*(λ+1))\n",
    "    s[0] = randbit(size=(2, λ))\n",
    "    t[0] = th.tensor([0, 1], dtype=torch.uint8)\n",
    "    for i in range(0, n):\n",
    "        # Re-use useless randomness\n",
    "        _, _, sL_0, _, sR_0, _ = split(G(s[i, 0]), [1, 1, λ, 1, λ, 1])\n",
    "        _, _, sL_1, _, sR_1, _ = split(G(s[i, 1]), [1, 1, λ, 1, λ, 1])\n",
    "        s_rand = (sL_0 ^ sL_1) * α[i] + (sR_0 ^ sR_1) * (1 - α[i])\n",
    "        cw_i = TruthTableDIF(s_rand, α[i])\n",
    "        CW[i] = cw_i ^ G(s[i, 0]) ^ G(s[i, 1])\n",
    "        \n",
    "        for b in (0, 1):\n",
    "            τ = G(s[i, b])  ^  (t[i, b] * CW[i])\n",
    "            τ = τ.reshape(2, λ+2)\n",
    "            σ_leaf, s[i+1, b], t[i+1, b] = split(τ[𝛼[i]], [1, λ, 1])\n",
    "    \n",
    "    return s[0, 0], s[0, 1], CW"
   ]
  },
  {
   "cell_type": "code",
   "execution_count": 32,
   "metadata": {},
   "outputs": [],
   "source": [
    "@sy.func2plan()\n",
    "def EvalDIF(b, x, *k_b):\n",
    "    FnOutput = Array(n+1, 1)\n",
    "    x = bit_decomposition(x)\n",
    "    s, t = Array(n+1, λ), Array(n+1, 1)\n",
    "    s[0] = k_b[0]\n",
    "    CW =  k_b[1:]\n",
    "    t[0] = b\n",
    "    for i in range(0, n):\n",
    "        τ = G(s[i]) ^ t[i]*CW[i]\n",
    "        τ = τ.reshape(2, λ+2)\n",
    "        σ_leaf, s[i+1], t[i+1] = split(τ[x[i]], [1, λ, 1])\n",
    "        FnOutput[i] = σ_leaf\n",
    "\n",
    "    # Last tour, the other σ is also a leaf:\n",
    "    FnOutput[n] = t[n]\n",
    "    return FnOutput.sum() % 2"
   ]
  },
  {
   "cell_type": "code",
   "execution_count": 33,
   "metadata": {},
   "outputs": [],
   "source": [
    "alpha, = th.randint(0, 2**n, (1,))\n",
    "\n",
    "GenDIF.build(alpha)\n",
    "res = GenDIF(alpha)\n",
    "s_00, s_01, CW = res\n",
    "k = [\n",
    "    (s_00, *CW),\n",
    "    (s_01, *CW)\n",
    "]"
   ]
  },
  {
   "cell_type": "code",
   "execution_count": 34,
   "metadata": {},
   "outputs": [],
   "source": [
    "EvalDIF.build(th.IntTensor([0]), alpha, *k[0])"
   ]
  },
  {
   "cell_type": "code",
   "execution_count": 35,
   "metadata": {},
   "outputs": [],
   "source": [
    "serde_plan_simplified = serde._simplify(bob, GenDIF)\n",
    "GenDIF_back = serde._detail(bob, serde_plan_simplified)\n",
    "\n",
    "serde_plan_simplified = serde._simplify(bob, EvalDIF)\n",
    "EvalDIF_back = serde._detail(bob, serde_plan_simplified)"
   ]
  },
  {
   "cell_type": "code",
   "execution_count": 36,
   "metadata": {},
   "outputs": [],
   "source": [
    "beta = th.IntTensor([2])\n",
    "alpha, = th.randint(0, 2**n, (1,))"
   ]
  },
  {
   "cell_type": "code",
   "execution_count": 38,
   "metadata": {},
   "outputs": [],
   "source": [
    "res = GenDIF_back(alpha, beta)\n",
    "s_00, s_01, CW = res\n",
    "k = [\n",
    "    (s_00, *CW),\n",
    "    (s_01, *CW)\n",
    "]"
   ]
  },
  {
   "cell_type": "code",
   "execution_count": 42,
   "metadata": {},
   "outputs": [
    {
     "data": {
      "text/plain": [
       "tensor(1)"
      ]
     },
     "execution_count": 42,
     "metadata": {},
     "output_type": "execute_result"
    }
   ],
   "source": [
    "(EvalDIF(th.IntTensor([0]), alpha-1, *k[0]) + EvalDIF(th.IntTensor([1]), alpha-1, *k[1]))"
   ]
  },
  {
   "cell_type": "code",
   "execution_count": null,
   "metadata": {},
   "outputs": [],
   "source": []
  }
 ],
 "metadata": {
  "kernelspec": {
   "display_name": "Python (Pysyft)",
   "language": "python",
   "name": "pysyft"
  },
  "language_info": {
   "codemirror_mode": {
    "name": "ipython",
    "version": 3
   },
   "file_extension": ".py",
   "mimetype": "text/x-python",
   "name": "python",
   "nbconvert_exporter": "python",
   "pygments_lexer": "ipython3",
   "version": "3.7.0"
  }
 },
 "nbformat": 4,
 "nbformat_minor": 2
}
